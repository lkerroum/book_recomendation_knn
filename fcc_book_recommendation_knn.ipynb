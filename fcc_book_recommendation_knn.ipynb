{
  "cells": [
    {
      "cell_type": "markdown",
      "metadata": {
        "id": "view-in-github",
        "colab_type": "text"
      },
      "source": [
        "<a href=\"https://colab.research.google.com/github/lkerroum/book_recomendation_knn/blob/main/fcc_book_recommendation_knn.ipynb\" target=\"_parent\"><img src=\"https://colab.research.google.com/assets/colab-badge.svg\" alt=\"Open In Colab\"/></a>"
      ]
    },
    {
      "cell_type": "markdown",
      "source": [
        "#BOOK RECOMMENDATION ENGINE USING KNN\n",
        "\n",
        "###Instructions\n",
        "In this challenge, you will create a book recommendation algorithm using K-Nearest Neighbors.\n",
        "\n",
        "You will use the Book-Crossings dataset. This dataset contains 1.1 million ratings (scale of 1-10) of 270,000 books by 90,000 users.\n",
        "\n",
        "After importing and cleaning the data, use NearestNeighbors from sklearn.neighbors to develop a model that shows books that are similar to a given book. The Nearest Neighbors algorithm measures the distance to determine the “closeness” of instances.\n",
        "\n",
        "Create a function named get_recommends that takes a book title (from the dataset) as an argument and returns a list of 5 similar books with their distances from the book argument.\n",
        "\n",
        "This code:\n",
        "\n"
      ],
      "metadata": {
        "id": "2YfS6t2LlYFx"
      }
    },
    {
      "cell_type": "code",
      "source": [
        "get_recommends(\"The Queen of the Damned (Vampire Chronicles (Paperback))\")"
      ],
      "metadata": {
        "id": "xZ3SgCRDl8yJ"
      },
      "execution_count": null,
      "outputs": []
    },
    {
      "cell_type": "markdown",
      "source": [
        "should return:"
      ],
      "metadata": {
        "id": "k4vLCc_XmBhG"
      }
    },
    {
      "cell_type": "code",
      "source": [
        "[\n",
        "  'The Queen of the Damned (Vampire Chronicles (Paperback))',\n",
        "  [\n",
        "    ['Catch 22', 0.793983519077301],\n",
        "    ['The Witching Hour (Lives of the Mayfair Witches)', 0.7448656558990479],\n",
        "    ['Interview with the Vampire', 0.7345068454742432],\n",
        "    ['The Tale of the Body Thief (Vampire Chronicles (Paperback))', 0.5376338362693787],\n",
        "    ['The Vampire Lestat (Vampire Chronicles, Book II)', 0.5178412199020386]\n",
        "  ]\n",
        "]\n"
      ],
      "metadata": {
        "id": "_BUt1hDWmE0b"
      },
      "execution_count": null,
      "outputs": []
    },
    {
      "cell_type": "markdown",
      "source": [
        "Notice that the data returned from get_recommends() is a list. The first element in the list is the book title passed into the function. The second element in the list is a list of five more lists. Each of the five lists contains a recommended book and the distance from the recommended book to the book passed into the function.\n",
        "\n",
        "If you graph the dataset (optional), you will notice that most books are not rated frequently. To ensure statistical significance, remove from the dataset users with less than 200 ratings and books with less than 100 ratings.\n",
        "\n",
        "The first three cells import libraries you may need and the data to use. The final cell is for testing. Write all your code in between those cells."
      ],
      "metadata": {
        "id": "vtLts9yAmIr-"
      }
    },
    {
      "cell_type": "markdown",
      "source": [
        "###Load libraries"
      ],
      "metadata": {
        "id": "B05vO8SJmO-o"
      }
    },
    {
      "cell_type": "code",
      "execution_count": 1,
      "metadata": {
        "id": "Y1onB6kUvo4Z"
      },
      "outputs": [],
      "source": [
        "# import libraries (you may add additional imports but you may not have to)\n",
        "import numpy as np\n",
        "import pandas as pd\n",
        "from scipy.sparse import csr_matrix\n",
        "from sklearn.neighbors import NearestNeighbors\n",
        "import matplotlib.pyplot as plt"
      ]
    },
    {
      "cell_type": "markdown",
      "source": [
        "###Load data"
      ],
      "metadata": {
        "id": "C6dNaRRFmUa7"
      }
    },
    {
      "cell_type": "code",
      "execution_count": 7,
      "metadata": {
        "id": "iAQGqqO_vo4d",
        "outputId": "186b7434-7adf-4e52-d6df-db37b14af14e",
        "colab": {
          "base_uri": "https://localhost:8080/"
        }
      },
      "outputs": [
        {
          "output_type": "stream",
          "name": "stdout",
          "text": [
            "--2024-07-22 07:23:50--  https://cdn.freecodecamp.org/project-data/books/book-crossings.zip\n",
            "Resolving cdn.freecodecamp.org (cdn.freecodecamp.org)... 172.67.70.149, 104.26.3.33, 104.26.2.33, ...\n",
            "Connecting to cdn.freecodecamp.org (cdn.freecodecamp.org)|172.67.70.149|:443... connected.\n",
            "HTTP request sent, awaiting response... 200 OK\n",
            "Length: 26085508 (25M) [application/zip]\n",
            "Saving to: ‘book-crossings.zip.1’\n",
            "\n",
            "book-crossings.zip. 100%[===================>]  24.88M   157MB/s    in 0.2s    \n",
            "\n",
            "2024-07-22 07:23:50 (157 MB/s) - ‘book-crossings.zip.1’ saved [26085508/26085508]\n",
            "\n",
            "Archive:  book-crossings.zip\n",
            "replace BX-Book-Ratings.csv? [y]es, [n]o, [A]ll, [N]one, [r]ename: "
          ]
        }
      ],
      "source": [
        "# get data files\n",
        "!wget https://cdn.freecodecamp.org/project-data/books/book-crossings.zip\n",
        "\n",
        "!unzip book-crossings.zip\n",
        "\n",
        "books_filename = 'BX-Books.csv'\n",
        "ratings_filename = 'BX-Book-Ratings.csv'"
      ]
    },
    {
      "cell_type": "markdown",
      "source": [
        "###Import into dataframes and clean"
      ],
      "metadata": {
        "id": "CZcEEuQ4mXYy"
      }
    },
    {
      "cell_type": "code",
      "execution_count": 33,
      "metadata": {
        "id": "NClILWOiEd6Q"
      },
      "outputs": [],
      "source": [
        "# import csv data into dataframes\n",
        "df_books = pd.read_csv(\n",
        "    books_filename,\n",
        "    encoding = \"ISO-8859-1\",\n",
        "    sep=\";\",\n",
        "    header=0,\n",
        "    names=['isbn', 'title', 'author'],\n",
        "    usecols=['isbn', 'title', 'author'],\n",
        "    dtype={'isbn': 'str', 'title': 'str', 'author': 'str'})\n",
        "\n",
        "df_ratings = pd.read_csv(\n",
        "    ratings_filename,\n",
        "    encoding = \"ISO-8859-1\",\n",
        "    sep=\";\",\n",
        "    header=0,\n",
        "    names=['user', 'isbn', 'rating'],\n",
        "    usecols=['user', 'isbn', 'rating'],\n",
        "    dtype={'user': 'int32', 'isbn': 'str', 'rating': 'float32'})\n",
        "\n",
        "\n",
        "# data cleaning\n",
        "df_books.dropna(inplace=True)\n",
        "df_ratings.dropna(inplace=True)\n",
        "\n",
        "# drop users with less than 200 ratings\n",
        "user_counts = df_ratings['user'].value_counts()\n",
        "valid_users = user_counts[user_counts >= 200].index\n",
        "df_ratings_cl = df_ratings[df_ratings['user'].isin(valid_users)]\n",
        "\n",
        "# drop books with less than 100 ratings\n",
        "book_counts = df_ratings['isbn'].value_counts()\n",
        "valid_books = book_counts[book_counts >= 100].index\n",
        "df_ratings_cl = df_ratings_cl[df_ratings_cl['isbn'].isin(valid_books)]\n",
        "df_books = df_books[df_books['isbn'].isin(valid_books)]"
      ]
    },
    {
      "cell_type": "markdown",
      "source": [
        "###Prepare dataset for KNN and build model"
      ],
      "metadata": {
        "id": "Cdff71v2miHw"
      }
    },
    {
      "cell_type": "code",
      "source": [
        "# prepare df_ratings for nearest neighbors algorithm\n",
        "\n",
        "ratings_matrix = df_ratings_cl.pivot_table(index='isbn', columns='user', values='rating').fillna(0)\n",
        "ratings_matrix.index = ratings_matrix.join(df_books.set_index('isbn'))['title']\n",
        "nbrs = NearestNeighbors(algorithm='auto', radius=1.0, metric='cosine').fit(ratings_matrix.values)\n"
      ],
      "metadata": {
        "id": "EDTYjeOSdVsU"
      },
      "execution_count": 80,
      "outputs": []
    },
    {
      "cell_type": "markdown",
      "source": [
        "###Create get_recommends() function"
      ],
      "metadata": {
        "id": "0aXhzqiAmyYD"
      }
    },
    {
      "cell_type": "code",
      "execution_count": 82,
      "metadata": {
        "id": "f5ZUd-L1SQz7"
      },
      "outputs": [],
      "source": [
        "# function to return recommended books - this will be tested\n",
        "def get_recommends(book=\"\"):\n",
        "    if book in ratings_matrix.index:\n",
        "        dist, recommended_books_indices = nbrs.kneighbors([ratings_matrix.loc[book].values], n_neighbors=6)\n",
        "        recommended_books = pd.DataFrame({\n",
        "            'title'   : ratings_matrix.iloc[recommended_books_indices[0]].index.values,\n",
        "            'distance': dist[0]\n",
        "            }).sort_values(by='distance', ascending=False).head(5).values\n",
        "\n",
        "        return [book, recommended_books]\n",
        "\n",
        "    else:\n",
        "        print(f\"{book} not found in the ratings matrix.\")\n"
      ]
    },
    {
      "cell_type": "markdown",
      "source": [
        "###Check test cases"
      ],
      "metadata": {
        "id": "_rUN-UaTm3Z1"
      }
    },
    {
      "cell_type": "code",
      "source": [
        "book = \"The Queen of the Damned (Vampire Chronicles (Paperback))\"\n",
        "dist, recommended_books_indices = nbrs.kneighbors([ratings_matrix.loc[book].values], n_neighbors=6)\n",
        "recommended_books = pd.DataFrame({\n",
        "    'title'   : ratings_matrix.iloc[recommended_books_indices[0]].index.values,\n",
        "    'distance': dist[0]\n",
        "    }).sort_values(by='distance', ascending=False).head(5).values\n",
        "print(recommended_books)"
      ],
      "metadata": {
        "id": "pOOKttAtYa17",
        "outputId": "020be58d-1fb6-465e-a2a9-d5543978ce75",
        "colab": {
          "base_uri": "https://localhost:8080/"
        }
      },
      "execution_count": 81,
      "outputs": [
        {
          "output_type": "stream",
          "name": "stdout",
          "text": [
            "[['Catch 22' 0.793983519077301]\n",
            " ['The Witching Hour (Lives of the Mayfair Witches)' 0.7448656558990479]\n",
            " ['Interview with the Vampire' 0.7345068454742432]\n",
            " ['The Tale of the Body Thief (Vampire Chronicles (Paperback))'\n",
            "  0.5376338362693787]\n",
            " ['The Vampire Lestat (Vampire Chronicles, Book II)' 0.5178411602973938]]\n"
          ]
        }
      ]
    },
    {
      "cell_type": "code",
      "execution_count": 83,
      "metadata": {
        "id": "jd2SLCh8oxMh",
        "outputId": "3d12e5d9-b818-43e7-cee2-9d4dfd5fe859",
        "colab": {
          "base_uri": "https://localhost:8080/"
        }
      },
      "outputs": [
        {
          "output_type": "stream",
          "name": "stdout",
          "text": [
            "[\"Where the Heart Is (Oprah's Book Club (Paperback))\", array([[\"I'll Be Seeing You\", 0.8016210794448853],\n",
            "       ['The Weight of Water', 0.7708583474159241],\n",
            "       ['The Surgeon', 0.7699410915374756],\n",
            "       ['I Know This Much Is True', 0.7677075266838074],\n",
            "       ['The Lovely Bones: A Novel', 0.7234864234924316]], dtype=object)]\n",
            "You passed the challenge! 🎉🎉🎉🎉🎉\n"
          ]
        }
      ],
      "source": [
        "books = get_recommends(\"Where the Heart Is (Oprah's Book Club (Paperback))\")\n",
        "print(books)\n",
        "\n",
        "def test_book_recommendation():\n",
        "  test_pass = True\n",
        "  recommends = get_recommends(\"Where the Heart Is (Oprah's Book Club (Paperback))\")\n",
        "  if recommends[0] != \"Where the Heart Is (Oprah's Book Club (Paperback))\":\n",
        "    test_pass = False\n",
        "  recommended_books = [\"I'll Be Seeing You\", 'The Weight of Water', 'The Surgeon', 'I Know This Much Is True']\n",
        "  recommended_books_dist = [0.8, 0.77, 0.77, 0.77]\n",
        "  for i in range(2):\n",
        "    if recommends[1][i][0] not in recommended_books:\n",
        "      test_pass = False\n",
        "      print(2)\n",
        "    if abs(recommends[1][i][1] - recommended_books_dist[i]) >= 0.05:\n",
        "      test_pass = False\n",
        "      print(3)\n",
        "  if test_pass:\n",
        "    print(\"You passed the challenge! 🎉🎉🎉🎉🎉\")\n",
        "  else:\n",
        "    print(\"You haven't passed yet. Keep trying!\")\n",
        "\n",
        "test_book_recommendation()"
      ]
    }
  ],
  "metadata": {
    "colab": {
      "name": "fcc_book_recommendation_knn.ipynb",
      "provenance": [],
      "include_colab_link": true
    },
    "kernelspec": {
      "display_name": "Python 3",
      "language": "python",
      "name": "python3"
    },
    "language_info": {
      "codemirror_mode": {
        "name": "ipython",
        "version": 3
      },
      "file_extension": ".py",
      "mimetype": "text/x-python",
      "name": "python",
      "nbconvert_exporter": "python",
      "pygments_lexer": "ipython3",
      "version": "3.6.5"
    }
  },
  "nbformat": 4,
  "nbformat_minor": 0
}